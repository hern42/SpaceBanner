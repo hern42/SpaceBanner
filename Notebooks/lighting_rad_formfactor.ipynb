{
 "cells": [
  {
   "cell_type": "markdown",
   "metadata": {},
   "source": [
    "# Facteur de Forme dans une scène test\n",
    "\n",
    "Maintenant qu'on a une idée de comment sont calculés les facteurs de forme et les effets de la méthode, on va pouvoir tester ça sur une mini scène.\n",
    "\n",
    "## TODO\n",
    "\n",
    "- graph experimental (rnd et uniforme) vs théorique pour les patchs où le calcul est possible\n",
    "- graph temps rnd vs uniforme avec différentes valeurs de n et dx,dy,dz\n",
    "\n",
    "## La scène\n",
    "\n",
    "- une pièce de 3x3 complètement close avec un sol, des murs et un plafond\n",
    "- entièrement vide pour éviter d'avoir à se soucier des occlusions\n",
    "- la représentation se base sur des surfaces rectangulaires\n",
    "    - une cellule au sol et au plafond fait 1x1\n",
    "    - une cellule des murs 1x2"
   ]
  },
  {
   "cell_type": "markdown",
   "metadata": {},
   "source": [
    "## Imports"
   ]
  },
  {
   "cell_type": "code",
   "execution_count": 1,
   "metadata": {},
   "outputs": [
    {
     "name": "stdout",
     "output_type": "stream",
     "text": [
      "imports: OK\n",
      "random generator: OK\n"
     ]
    }
   ],
   "source": [
    "import numpy as np\n",
    "import random\n",
    "\n",
    "print(\"imports: OK\")\n",
    "\n",
    "rng = random.SystemRandom()\n",
    "print(\"random generator: OK\")"
   ]
  },
  {
   "cell_type": "markdown",
   "metadata": {},
   "source": [
    "## Rectangle\n",
    "\n",
    "- représente la surface d'un élément de la scène.\n",
    "- aligné par rapport à deux axes (dans le plan xOy, xOz ou y0z)\n",
    "- identifié par un numéro (qui servira d'index pour le maillage)\n",
    "- définit par 2 points cmin, cmax et un vecteur normale à la surface\n",
    "- permet d'obtenir un point tiré aléatoirement sur la surface du rectangle\n",
    "- permet de subdiviser la surface en carrés de même taille\n",
    "\n",
    "**attention:** par défaut, les surfaces sont divisées en carré de 0.5 unité par coté"
   ]
  },
  {
   "cell_type": "code",
   "execution_count": 16,
   "metadata": {},
   "outputs": [
    {
     "name": "stdout",
     "output_type": "stream",
     "text": [
      "class Rectangle: OK\n"
     ]
    }
   ],
   "source": [
    "class Rect():\n",
    "    count = 0\n",
    "\n",
    "    def __init__(self, cmin, cmax, norm):\n",
    "        # Index\n",
    "        self.idt = Rect.count\n",
    "        Rect.count += 1\n",
    "        \n",
    "        # Points and normal\n",
    "        self.cmin = cmin\n",
    "        self.cmax = cmax\n",
    "        self.norm = norm\n",
    "        \n",
    "        # Length\n",
    "        self.lx = cmax[0] - cmin[0]\n",
    "        self.ly = cmax[1] - cmin[1]\n",
    "        self.lz = cmax[2] - cmin[2]\n",
    "        \n",
    "        # Area\n",
    "        self.area = self.lx*self.ly + self.lx*self.lz + self.ly*self.lz\n",
    "        \n",
    "        # Split surface into patchs\n",
    "        self.split()\n",
    "        print(f\"{self.idt} {self.cmin} {self.cmax} area:{self.area}\")\n",
    "\n",
    "    def getRndUV(self, umin, umax, vmin, vmax):\n",
    "        # TODO: p have to be in ]0;1[ to avoid the r = 0 case (in Ri T Rj)\n",
    "        pu = rng.uniform(umin, umax)\n",
    "        pv = rng.uniform(vmin, vmax)\n",
    "        return (pu, pv)\n",
    "    \n",
    "    def getRandomPoint(self):\n",
    "        if (self.lz == 0):\n",
    "            # R xOy\n",
    "            (px, py) = self.getRndUV(self.cmin[0], self.cmax[0], self.cmin[1], self.cmax[1])\n",
    "            pz = self.cmin[2]\n",
    "        elif (self.ly == 0):\n",
    "            # R xOz\n",
    "            (px, pz) = self.getRndUV(self.cmin[0], self.cmax[0], self.cmin[2], self.cmax[2])\n",
    "            py = self.cmin[1]\n",
    "        else:\n",
    "            # R yOz\n",
    "            (py, pz) = self.getRndUV(self.cmin[1], self.cmax[1], self.cmin[2], self.cmax[2])\n",
    "            px = self.cmin[0]\n",
    "        #print(f\"(idt:{self.idt} return point ({px}, {py}, {pz})\");\n",
    "        return(np.array([px, py, pz]))\n",
    "    \n",
    "\n",
    "    def getPatchs(self):\n",
    "        return self.patch\n",
    "\n",
    "    def split(self, dx=0.5, dy=0.5, dz=0.5):\n",
    "        self.patch = []\n",
    "\n",
    "        # Hack to ensure we do at least 1 iteration\n",
    "        lx = dx  if self.lx == 0 else self.lx\n",
    "        ly = dy  if self.ly == 0 else self.ly\n",
    "        lz = dz  if self.lz == 0 else self.lz\n",
    "\n",
    "        # used to cancel splits on u, v, w\n",
    "        kx = 0. if lx < 1. else 1.\n",
    "        ky = 0. if ly < 1. else 1.\n",
    "        kz = 0. if lz < 1. else 1.\n",
    "\n",
    "        x0 = self.cmin[0]\n",
    "        y0 = self.cmin[1]\n",
    "        z0 = self.cmin[2]\n",
    "\n",
    "        z = dz / 2.\n",
    "        while z < lz:\n",
    "            y = dy / 2.\n",
    "            while y < ly:\n",
    "                x = dx / 2.\n",
    "                while x < lx:\n",
    "                    #print(f\"{x0+x*kx}, {y0+y*ky}, {z0+z*kz}\")\n",
    "                    self.patch.append(np.array([x0+x*kx, y0+y*ky, z0+z*kz]))\n",
    "                    x += dx\n",
    "                y += dy\n",
    "            z += dz\n",
    "\n",
    "    def initFormFactors(self, n):\n",
    "        self.fij = np.zeros([n])\n",
    "\n",
    "    def dumpFij(self):\n",
    "        n = len(self.fij)\n",
    "        for i in range(n):\n",
    "            print(f\"[{self.idt} -> {i}] Fij = {self.fij[i]}\")\n",
    "            \n",
    "print(\"class Rectangle: OK\")"
   ]
  },
  {
   "cell_type": "markdown",
   "metadata": {},
   "source": [
    "## Maillage\n",
    "\n",
    "Va nous permettre de stocker les surfaces composant la scène. Chaque polygone est identifié par son numéro d'index.\n",
    "\n",
    "**attention:** c'est une approche brute de fonderie, juste pour les besoins du test !\n",
    "\n",
    "- contient la liste des polygones qui composent la scène\n",
    "- permet d'ajouter un polygone à la scène courante\n",
    "- permet d'accéder à un polygone en connaissant sont numéro\n",
    "- permet de lancer le calcul des facteurs de forme sur l'ensemble des éléments du maillage (2 versions : aléatoire ou uniforme cellules carrés)\n",
    "- permet de lancer le calcul du facteur de forme entre 2 élément du maillage\n",
    "- permet d'afficher les facteurs de forme entre un éléments et tous les autres de la scène"
   ]
  },
  {
   "cell_type": "code",
   "execution_count": 6,
   "metadata": {},
   "outputs": [
    {
     "name": "stdout",
     "output_type": "stream",
     "text": [
      "class Mesh: OK\n"
     ]
    }
   ],
   "source": [
    "class Mesh():\n",
    "    def __init__(self):\n",
    "        self.poly = []\n",
    "\n",
    "    def add(self, item):\n",
    "        self.poly.append(item)\n",
    "\n",
    "    def get(self, index):\n",
    "        return self.poly[index]\n",
    "\n",
    "    def initFormFactors(self):\n",
    "        size = len(self.poly)\n",
    "        for p in self.poly:\n",
    "            p.initFormFactors(size)\n",
    "            \n",
    "\n",
    "    def getFormFactors_rnd(self, n):\n",
    "        for poly_i in self.poly:\n",
    "            for poly_j in self.poly:\n",
    "                if poly_i.idt != poly_j.idt:\n",
    "                    poly_i.fij[poly_j.idt] = self.getFormFactor_rnd(poly_i, poly_j, n)\n",
    "                    \n",
    "                    \n",
    "\n",
    "    def getFormFactors_uni_sq(self):\n",
    "        for poly_i in self.poly:\n",
    "            for poly_j in self.poly:\n",
    "                if poly_i.idt != poly_j.idt:\n",
    "                    poly_i.fij[poly_j.idt] = self.getFormFactor_uni_sq(poly_i, poly_j)\n",
    "\n",
    "    # get Fij with uniform sampling (square patchs of the same size)\n",
    "    def getFormFactor_uni_sq(self, ri, rj):\n",
    "        fij = 0.\n",
    "        aj = rj.area\n",
    "        patchs_i = ri.getPatchs()\n",
    "        patchs_j = rj.getPatchs()\n",
    "        li = len(patchs_i)\n",
    "        lj = len(patchs_j)\n",
    "        samples = li * lj\n",
    "\n",
    "        for xi in patchs_i:\n",
    "            for xj in patchs_j:\n",
    "                # get ray from r1 to r2\n",
    "                rij = xj - xi\n",
    "                r = np.linalg.norm(rij)\n",
    "                nrij = rij / r\n",
    "                r2 = r*r\n",
    "                costhetai = np.dot(ri.norm, nrij)\n",
    "                costhetaj = -1.*np.dot(rj.norm, nrij)\n",
    "                deltaf = ((costhetai * costhetaj) / (np.pi * r2 + aj/lj))\n",
    "                if (deltaf > 0.):\n",
    "                    fij += deltaf\n",
    "        fij = fij * aj/samples\n",
    "        return fij\n",
    "\n",
    "    # get Fij with random sampling (ray casting Emitter x Receiver)\n",
    "    def getFormFactor_rnd(self, ri, rj, n=1):\n",
    "        fij = 0.\n",
    "        aj = rj.area\n",
    "        for i in range(n):\n",
    "            # get a point on r1 and r2\n",
    "            xi = ri.getRandomPoint()\n",
    "            xj = rj.getRandomPoint()\n",
    "            #print(f\"xi: {xi} xj: {xj}\")\n",
    "            # get ray from r1 to r2\n",
    "            rij = xj - xi\n",
    "            r = np.linalg.norm(rij)\n",
    "            nrij = rij / r\n",
    "            #print(f\"normalized ray vector: {nrij} ({nrij[0]*nrij[0] + nrij[1]*nrij[1] + nrij[2]*nrij[2]})\")\n",
    "            r2 = r*r\n",
    "            costhetai = np.dot(ri.norm, nrij)\n",
    "            costhetaj = -1.*np.dot(rj.norm, nrij)\n",
    "            #print(f\"costhetai: {costhetai}, costhetaj: {costhetaj} r2: {r2}\")\n",
    "            deltaf = ((costhetai * costhetaj) / (np.pi * r2 + aj/n))\n",
    "            #print(f\"deltaf: {deltaf}\")\n",
    "            if (deltaf > 0.):\n",
    "                fij += deltaf\n",
    "        fij = fij * aj/n\n",
    "        return fij\n",
    "    \n",
    "    def showFij(self, i):\n",
    "        self.poly[i].dumpFij()\n",
    "\n",
    "print(\"class Mesh: OK\")"
   ]
  },
  {
   "cell_type": "markdown",
   "metadata": {},
   "source": [
    "## Quelques valeurs théoriques\n",
    "\n",
    "__[A CATALOG OF RADIATION HEAT TRANSFER CONFIGURATION FACTORS](http://www.thermalradiation.net/tablecon.html)__ de John R. Howell \n",
    "\n",
    "En particulier :\n",
    "\n",
    "- __[Identical, parallel, directly opposed rectangles](http://www.thermalradiation.net/sectionc/C-11.html)__\n",
    "- __[Two finite rectangles of same length, having one common edge, and at an angle of 90° to each other](http://www.thermalradiation.net/sectionc/C-14.html)__\n",
    "- __[Rectangle to rectangle in a parallel plane](http://www.thermalradiation.net/sectionc/C-13.html)__\n",
    "- __[Rectangle to rectangle in a perpendicular plane; all boundaries are parallel or perpendicular to x and ξ boundaries](http://www.thermalradiation.net/sectionc/C-15.html)__ (**note:** ne fonctionne pas si les 2 rectangles ont un coté sur (Ox))"
   ]
  },
  {
   "cell_type": "code",
   "execution_count": 7,
   "metadata": {},
   "outputs": [
    {
     "name": "stdout",
     "output_type": "stream",
     "text": [
      "class Mesh: OK\n"
     ]
    }
   ],
   "source": [
    "def getThFij(a, b, c):\n",
    "    X = a/c\n",
    "    Y = b/c\n",
    "    th_fij = 2/(np.pi*X*Y) * ( np.log(np.power((1+X*X)*(1+Y*Y) / (1+X*X+Y*Y), 1/2  ))\n",
    "        + X*np.sqrt(1+Y*Y)*np.arctan(X/np.sqrt(1+Y*Y))\n",
    "        + Y*np.sqrt(1+X*X)*np.arctan(Y/np.sqrt(1+X*X))\n",
    "        - X*np.arctan(X) - Y*np.arctan(Y))\n",
    "    print(f\"theoritical para. ({a},{b},{c}) Fij = {th_fij}\")\n",
    "\n",
    "def getThPerpFij(a, b, c):\n",
    "    H = a/c\n",
    "    W = b/c\n",
    "    th_fij = (1./(np.pi*W)) * (W*np.arctan(1./W) + H*np.arctan(1./H) - np.sqrt(H*H+W*W)*np.arctan(1./np.sqrt(H*H+W*W))\n",
    "                                + (1./4.) * np.log( ((1+W*W)*(1+H*H) / (1+W*W+H*H))\n",
    "                                                * np.power((W*W*(1+W*W+H*H) / ((1+W*W)*(W*W+H*H))),W*W)\n",
    "                                                * np.power((H*H*(1+W*W+H*H) / ((1+H*H)*(H*H+W*W))),H*H)\n",
    "                                                ))\n",
    "    print(f\"theoritical perp. ({a},{b},{c}) Fij = {th_fij}\")\n",
    "\n",
    "def g_para_z(x, y, eta, xi, z):\n",
    "    res = (1./(2.*np.pi)) * (\n",
    "            (y - eta)*np.sqrt( (x-xi)*(x-xi) + z*z ) * np.arctan( (y-eta)/np.sqrt((x-xi)*(x-xi) + z*z ) )\n",
    "            + (x-xi)*np.sqrt(  (y-eta)*(y-eta) + z*z ) * np.arctan( (x-xi)/np.sqrt((y-eta)*(y-eta) + z*z ) )\n",
    "            - (z*z/2.)*np.log( (x-xi)*(x-xi) + (y-eta)*(y-eta) + z*z )\n",
    "            )\n",
    "    return res\n",
    "\n",
    "def getThFij_para_z(r1, r2):\n",
    "    # http://www.thermalradiation.net/sectionc/C-13.html\n",
    "    z = r2.cmax[2] - r1.cmax[2]\n",
    "    x = np.array([r1.cmin[0], r1.cmax[0]])\n",
    "    y = np.array([r1.cmin[1], r1.cmax[1]])\n",
    "    xi = np.array([r2.cmin[0], r2.cmax[0]])\n",
    "    eta = np.array([r2.cmin[1], r2.cmax[1]])\n",
    "\n",
    "    f12 = 0.\n",
    "    for l in range(1,3):\n",
    "        for k in range(1,3):\n",
    "            for j in range(1,3):\n",
    "                for i in range(1,3):\n",
    "                    f12 += np.power(-1, i+j+k+l)*g_para_z(x[i-1], y[j-1], eta[k-1], xi[l-1], z)\n",
    "    f12 *= 1./ ( (x[2-1] - x[1-1])*(y[2-1] - y[1-1]) )\n",
    "    print(f\"Th Fij ({r1.idt} -> {r2.idt}) = {f12}\")\n",
    "\n",
    "def g_perp_x(x, y, eta, xi):\n",
    "    K = (y -eta) / np.sqrt(x*x + xi*xi)\n",
    "    res = (1./(2.*np.pi)) * (\n",
    "            (y - eta)*np.sqrt( x*x + xi*xi ) * np.arctan(K) - (1./4.)*(x*x +xi*xi)*(1-K*K)\n",
    "            * np.log((x*x + xi*xi)*(1+K*K))\n",
    "            )\n",
    "    return res\n",
    "\n",
    "def getThFij_perp_x(r1, r2):\n",
    "    # http://www.thermalradiation.net/sectionc/C-15.html\n",
    "    if r1.cmin[0] == r2.cmin[2]:\n",
    "        print(\"common edge case\")\n",
    "        return 0.\n",
    "    x = np.array([r1.cmin[0], r1.cmax[0]])\n",
    "    y = np.array([r1.cmin[1], r1.cmax[1]])\n",
    "    xi = np.array([r2.cmin[2], r2.cmax[2]])\n",
    "    eta = np.array([r2.cmin[1], r2.cmax[1]])\n",
    "\n",
    "    f12 = 0.\n",
    "    for l in range(1,3):\n",
    "        for k in range(1,3):\n",
    "            for j in range(1,3):\n",
    "                for i in range(1,3):\n",
    "                    f12 += np.power(-1, i+j+k+l)*g_perp_x(x[i-1], y[j-1], eta[k-1], xi[l-1])\n",
    "    f12 *= 1./ ( (x[2-1] - x[1-1])*(y[2-1] - y[1-1]) )\n",
    "    print(f\"Th Fij perp ({r1.idt} -> {r2.idt}) = {f12}\")\n",
    "\n",
    "print(\"class Mesh: OK\")"
   ]
  },
  {
   "cell_type": "markdown",
   "metadata": {},
   "source": [
    "## La Scène\n",
    "\n",
    "- 'c' représente la hauteur \"sous-plafond\"\n",
    "\n",
    "### Les normales\n",
    "\n",
    "- on définit les normales qui seront utilisées par la suite (note : avec 3 points par face, on aurait pu les trouver automatiquement...)"
   ]
  },
  {
   "cell_type": "code",
   "execution_count": 9,
   "metadata": {},
   "outputs": [
    {
     "name": "stdout",
     "output_type": "stream",
     "text": [
      "normal vectors: OK\n"
     ]
    }
   ],
   "source": [
    "nz_up = np.array([0., 0., 1.])\n",
    "nz_down = np.array([0., 0., -1.])\n",
    "\n",
    "ny_up = np.array([0., 1., 0.])\n",
    "ny_down = np.array([0., -1., 0.])\n",
    "\n",
    "nx_up = np.array([1., 0., 0.])\n",
    "nx_down = np.array([-1., 0., 0.])\n",
    "\n",
    "print(\"normal vectors: OK\")"
   ]
  },
  {
   "cell_type": "markdown",
   "metadata": {},
   "source": [
    "### Construction de la scène"
   ]
  },
  {
   "cell_type": "code",
   "execution_count": 17,
   "metadata": {
    "scrolled": false
   },
   "outputs": [
    {
     "name": "stdout",
     "output_type": "stream",
     "text": [
      "## FLOOR ##\n",
      "0 [0. 0. 0.] [1. 1. 0.] area:1.0\n",
      "1 [1. 0. 0.] [2. 1. 0.] area:1.0\n",
      "2 [2. 0. 0.] [3. 1. 0.] area:1.0\n",
      "3 [0. 1. 0.] [1. 2. 0.] area:1.0\n",
      "4 [1. 1. 0.] [2. 2. 0.] area:1.0\n",
      "5 [2. 1. 0.] [3. 2. 0.] area:1.0\n",
      "6 [0. 2. 0.] [1. 3. 0.] area:1.0\n",
      "7 [1. 2. 0.] [2. 3. 0.] area:1.0\n",
      "8 [2. 2. 0.] [3. 3. 0.] area:1.0\n",
      "## CEILING ##\n",
      "9 [0. 0. 2.] [1. 1. 2.] area:1.0\n",
      "10 [1. 0. 2.] [2. 1. 2.] area:1.0\n",
      "11 [2. 0. 2.] [3. 1. 2.] area:1.0\n",
      "12 [0. 1. 2.] [1. 2. 2.] area:1.0\n",
      "13 [1. 1. 2.] [2. 2. 2.] area:1.0\n",
      "14 [2. 1. 2.] [3. 2. 2.] area:1.0\n",
      "15 [0. 2. 2.] [1. 3. 2.] area:1.0\n",
      "16 [1. 2. 2.] [2. 3. 2.] area:1.0\n",
      "17 [2. 2. 2.] [3. 3. 2.] area:1.0\n",
      "## NORTH WALL ##\n",
      "18 [0. 0. 0.] [1. 0. 2.] area:2.0\n",
      "19 [1. 0. 0.] [2. 0. 2.] area:2.0\n",
      "20 [2. 0. 0.] [3. 0. 2.] area:2.0\n",
      "## SOUTH WALL ##\n",
      "21 [0. 3. 0.] [1. 3. 2.] area:2.0\n",
      "22 [1. 3. 0.] [2. 3. 2.] area:2.0\n",
      "23 [2. 3. 0.] [3. 3. 2.] area:2.0\n",
      "## WEST WALL ##\n",
      "24 [0. 0. 0.] [0. 1. 2.] area:2.0\n",
      "25 [0. 1. 0.] [0. 2. 2.] area:2.0\n",
      "26 [0. 2. 0.] [0. 3. 2.] area:2.0\n",
      "## EAST WALL ##\n",
      "27 [3. 0. 0.] [3. 1. 2.] area:2.0\n",
      "28 [3. 1. 0.] [3. 2. 2.] area:2.0\n",
      "29 [3. 2. 0.] [3. 3. 2.] area:2.0\n",
      "mesh: OK\n"
     ]
    }
   ],
   "source": [
    "WIDTH = 3\n",
    "HEIGHT = 3\n",
    "\n",
    "c = 2.\n",
    "\n",
    "mesh = Mesh()\n",
    "\n",
    "## 1. Floor\n",
    "print(\"## FLOOR ##\")\n",
    "for y in range(HEIGHT):\n",
    "    for x in range(WIDTH):\n",
    "        mesh.add(Rect(np.array([x, y, 0.]), np.array([x+1., y+1., 0.]), nz_up))\n",
    "\n",
    "## 1. Ceiling\n",
    "print(\"## CEILING ##\")\n",
    "for y in range(HEIGHT):\n",
    "    for x in range(WIDTH):\n",
    "        mesh.add(Rect(np.array([x, y, c]), np.array([x+1., y+1., c]), nz_down))\n",
    "\n",
    "# North Wall\n",
    "print(\"## NORTH WALL ##\")\n",
    "y = 0\n",
    "for x in range(WIDTH):\n",
    "    mesh.add(Rect(np.array([x, y, 0.]), np.array([x+1, y, c]), ny_up))\n",
    "\n",
    "# South Wall\n",
    "print(\"## SOUTH WALL ##\")\n",
    "y = HEIGHT\n",
    "for x in range(WIDTH):\n",
    "    mesh.add(Rect(np.array([x, y, 0.]), np.array([x+1, y, c]), ny_down))\n",
    "\n",
    "# West Wall\n",
    "print(\"## WEST WALL ##\")\n",
    "x = 0\n",
    "for y in range(HEIGHT):\n",
    "    mesh.add(Rect(np.array([x, y, 0.]), np.array([x, y+1, c]), nx_up))\n",
    "\n",
    "# East Wall\n",
    "print(\"## EAST WALL ##\")\n",
    "x = WIDTH\n",
    "for y in range(HEIGHT):\n",
    "    mesh.add(Rect(np.array([x, y, 0.]), np.array([x, y+1, c]), nx_down))\n",
    "\n",
    "print(\"mesh: OK\")"
   ]
  },
  {
   "cell_type": "markdown",
   "metadata": {},
   "source": [
    "## Calcul des facteurs de forme (carrés)"
   ]
  },
  {
   "cell_type": "code",
   "execution_count": 20,
   "metadata": {},
   "outputs": [
    {
     "name": "stdout",
     "output_type": "stream",
     "text": [
      "theoritical para. (1,1,2.0) Fij = 0.0685895888185526\n",
      "theoritical perp. (2.0,1,1) Fij = 0.2328526027953619\n"
     ]
    }
   ],
   "source": [
    "# floor patch to ceiling patch (parallel, directly opposed)\n",
    "th_fij = getThFij(1, 1, c)\n",
    "# floor patch to wall patch (share an edge)\n",
    "th_perp_x_fij = getThPerpFij(c, 1, 1)"
   ]
  },
  {
   "cell_type": "code",
   "execution_count": 23,
   "metadata": {},
   "outputs": [
    {
     "name": "stdout",
     "output_type": "stream",
     "text": [
      "[1 -> 0] Fij = 0.0\n",
      "[1 -> 1] Fij = 0.0\n",
      "[1 -> 2] Fij = 0.0\n",
      "[1 -> 3] Fij = 0.0\n",
      "[1 -> 4] Fij = 0.0\n",
      "[1 -> 5] Fij = 0.0\n",
      "[1 -> 6] Fij = 0.0\n",
      "[1 -> 7] Fij = 0.0\n",
      "[1 -> 8] Fij = 0.0\n",
      "[1 -> 9] Fij = 0.048026038407756225\n",
      "[1 -> 10] Fij = 0.06954974267496243\n",
      "[1 -> 11] Fij = 0.048026038407756225\n",
      "[1 -> 12] Fij = 0.03476660478400199\n",
      "[1 -> 13] Fij = 0.04802603840775622\n",
      "[1 -> 14] Fij = 0.03476660478400198\n",
      "[1 -> 15] Fij = 0.01613260431412167\n",
      "[1 -> 16] Fij = 0.0202371320127766\n",
      "[1 -> 17] Fij = 0.016132604314121668\n",
      "[1 -> 18] Fij = 0.054503914644734544\n",
      "[1 -> 19] Fij = 0.2240578913850361\n",
      "[1 -> 20] Fij = 0.054503914644734544\n",
      "[1 -> 21] Fij = 0.019716162254953883\n",
      "[1 -> 22] Fij = 0.024791672262170248\n",
      "[1 -> 23] Fij = 0.01971616225495389\n",
      "[1 -> 24] Fij = 0.06568626051017326\n",
      "[1 -> 25] Fij = 0.04150686708646163\n",
      "[1 -> 26] Fij = 0.01565637571494623\n",
      "[1 -> 27] Fij = 0.06568626051017325\n",
      "[1 -> 28] Fij = 0.04150686708646162\n",
      "[1 -> 29] Fij = 0.01565637571494623\n"
     ]
    }
   ],
   "source": [
    "mesh.initFormFactors()\n",
    "mesh.getFormFactors_uni_sq()\n",
    "# Rect 1 : (1., 0, 0) -> (2, 1., 0)\n",
    "mesh.showFij(1)"
   ]
  },
  {
   "cell_type": "markdown",
   "metadata": {},
   "source": [
    "## Constatations (partie 1)\n",
    "\n",
    "Le patch 1 correspond à la surface du sol entre (1, 0, 0) à (2, 1, 0) dans la première rangée.\n",
    "\n",
    "Points importants :\n",
    "\n",
    "- 1 vers 10 (vers patch plafond immédiatement opposé) : 0.06954974267496243 vs 0.0685895888185526 soit 1.39% d'erreur\n",
    "- 1 vers 19 (vers mur attenant au nord) : 0.2240578913850361 vs 0.2328526027953619 soit -3.77 % d'erreur\n",
    "\n",
    "- les résultats montrent la symétrie attendue ce qui n'est pas le cas avec la méthode de lancé de rayons sur positions aléatoires (cf. plus loin)\n",
    "    - 1 vers 9 (patch plafond à gauche) et 1 vers 11 (patch plafon à droite)\n",
    "    - 1 vers 24 et 27 (les murs opposés de la première rangée)"
   ]
  },
  {
   "cell_type": "code",
   "execution_count": 24,
   "metadata": {},
   "outputs": [
    {
     "name": "stdout",
     "output_type": "stream",
     "text": [
      "Th Fij (1 -> 12) = 0.035107100909694156\n",
      "Th Fij (1 -> 13) = 0.04806410298507047\n",
      "Th Fij (1 -> 14) = 0.035107100909694156\n",
      "Th Fij perp (1 -> 24) = 0.06574698897816222\n",
      "Th Fij perp (1 -> 25) = 0.041967204961217586\n",
      "Th Fij perp (1 -> 26) = 0.01591710403613758\n"
     ]
    }
   ],
   "source": [
    "getThFij_para_z(mesh.get(1), mesh.get(12))\n",
    "getThFij_para_z(mesh.get(1), mesh.get(13))\n",
    "getThFij_para_z(mesh.get(1), mesh.get(14))\n",
    "\n",
    "getThFij_perp_x(mesh.get(1), mesh.get(24))\n",
    "getThFij_perp_x(mesh.get(1), mesh.get(25))\n",
    "getThFij_perp_x(mesh.get(1), mesh.get(26))"
   ]
  },
  {
   "cell_type": "markdown",
   "metadata": {},
   "source": [
    "## Constatations (partie 2)\n",
    "\n",
    "(**TODO:** graphique erreur sur les cas où on dispose des résultats théoriques)"
   ]
  },
  {
   "cell_type": "markdown",
   "metadata": {},
   "source": [
    "## Calcul des facteurs de forme (aléatoire)"
   ]
  },
  {
   "cell_type": "code",
   "execution_count": 30,
   "metadata": {},
   "outputs": [
    {
     "name": "stdout",
     "output_type": "stream",
     "text": [
      "[1 -> 0] Fij = 0.0\n",
      "[1 -> 1] Fij = 0.0\n",
      "[1 -> 2] Fij = 0.0\n",
      "[1 -> 3] Fij = 0.0\n",
      "[1 -> 4] Fij = 0.0\n",
      "[1 -> 5] Fij = 0.0\n",
      "[1 -> 6] Fij = 0.0\n",
      "[1 -> 7] Fij = 0.0\n",
      "[1 -> 8] Fij = 0.0\n",
      "[1 -> 9] Fij = 0.04705024357793468\n",
      "[1 -> 10] Fij = 0.06867592957482017\n",
      "[1 -> 11] Fij = 0.05192578072548309\n",
      "[1 -> 12] Fij = 0.0326934976144591\n",
      "[1 -> 13] Fij = 0.048505758197937836\n",
      "[1 -> 14] Fij = 0.03468846343353401\n",
      "[1 -> 15] Fij = 0.022775598910145804\n",
      "[1 -> 16] Fij = 0.01880027133577495\n",
      "[1 -> 17] Fij = 0.015711832649565417\n",
      "[1 -> 18] Fij = 0.06656328508288425\n",
      "[1 -> 19] Fij = 0.17222668654866718\n",
      "[1 -> 20] Fij = 0.06405873504469553\n",
      "[1 -> 21] Fij = 0.018403634321533035\n",
      "[1 -> 22] Fij = 0.024327767573218397\n",
      "[1 -> 23] Fij = 0.01879774161696582\n",
      "[1 -> 24] Fij = 0.0541948282030384\n",
      "[1 -> 25] Fij = 0.03623454528679388\n",
      "[1 -> 26] Fij = 0.016675844492583494\n",
      "[1 -> 27] Fij = 0.06504529381035953\n",
      "[1 -> 28] Fij = 0.03649221324150836\n",
      "[1 -> 29] Fij = 0.016895792857653066\n"
     ]
    }
   ],
   "source": [
    "mesh.initFormFactors()\n",
    "mesh.getFormFactors_rnd(16)\n",
    "# Rect 1 : (1., 0, 0) -> (2, 1., 0)\n",
    "mesh.showFij(1)"
   ]
  },
  {
   "cell_type": "markdown",
   "metadata": {},
   "source": [
    "- adieu la symétrie... à moins de détecter les cas et forcer les valeurs (moyenne, remplacement ?)\n",
    "- avec n faible, l'erreur est plus importante\n",
    "- le méthode est plus longue que celle basée sur la subdivision uniforme (mais le résultat de cette dernière est sans doute plus grossier dans le cadre d'une utilisation \"normale\"... ce qui n'est pas le cas ici"
   ]
  },
  {
   "cell_type": "markdown",
   "metadata": {},
   "source": [
    "## Et maintenant ?\n",
    "\n",
    "Prochaine étape : résolution des systèmes d'équations pour le calcul de radiosité"
   ]
  }
 ],
 "metadata": {
  "kernelspec": {
   "display_name": "Python 3",
   "language": "python",
   "name": "python3"
  },
  "language_info": {
   "codemirror_mode": {
    "name": "ipython",
    "version": 3
   },
   "file_extension": ".py",
   "mimetype": "text/x-python",
   "name": "python",
   "nbconvert_exporter": "python",
   "pygments_lexer": "ipython3",
   "version": "3.6.6"
  }
 },
 "nbformat": 4,
 "nbformat_minor": 2
}
